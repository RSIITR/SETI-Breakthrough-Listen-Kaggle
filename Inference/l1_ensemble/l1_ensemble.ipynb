{
 "cells": [
  {
   "cell_type": "code",
   "execution_count": null,
   "metadata": {
    "execution": {
     "iopub.execute_input": "2021-08-15T12:30:03.135668Z",
     "iopub.status.busy": "2021-08-15T12:30:03.135208Z",
     "iopub.status.idle": "2021-08-15T12:30:12.391057Z",
     "shell.execute_reply": "2021-08-15T12:30:12.390077Z",
     "shell.execute_reply.started": "2021-08-15T12:30:03.135567Z"
    }
   },
   "outputs": [],
   "source": [
    "import pandas as pd\n",
    "import numpy as np\n",
    "\n",
    "from sklearn import metrics\n",
    "from sklearn.model_selection import StratifiedKFold\n",
    "from sklearn.linear_model import LogisticRegression\n",
    "from sklearn.svm import SVC\n",
    "\n",
    "import xgboost as xgb\n",
    "import catboost as cb\n",
    "import lightgbm as lgb\n",
    "\n",
    "import tensorflow as tf\n",
    "import tensorflow_addons as tfa\n",
    "\n",
    "from functools import partial\n",
    "import optuna\n",
    "\n",
    "xgb.set_config(verbosity=0)\n",
    "\n",
    "import warnings\n",
    "warnings.filterwarnings('ignore')"
   ]
  },
  {
   "cell_type": "code",
   "execution_count": null,
   "metadata": {
    "execution": {
     "iopub.execute_input": "2021-08-15T12:30:12.392607Z",
     "iopub.status.busy": "2021-08-15T12:30:12.392341Z",
     "iopub.status.idle": "2021-08-15T12:30:12.926486Z",
     "shell.execute_reply": "2021-08-15T12:30:12.92554Z",
     "shell.execute_reply.started": "2021-08-15T12:30:12.392581Z"
    }
   },
   "outputs": [],
   "source": [
    "oof_b6 = pd.read_csv('../input/setiinference/SETI_inference/OOFs/B6_oof.csv')\n",
    "oof_b6_TTA = pd.read_csv('../input/setiinference/SETI_inference/OOFs/B6_oof_TTA_V2.csv')\n",
    "\n",
    "oof_b7 = pd.read_csv('../input/setiinference/SETI_inference/OOFs/B7_oof.csv')\n",
    "oof_b7_TTA = pd.read_csv('../input/setiinference/SETI_inference/OOFs/B7_oof_TTA_V2.csv')\n",
    "\n",
    "oof_v2_m_21k = pd.read_csv('../input/setiinference/SETI_inference/OOFs/v2-m-21k_oof.csv')\n",
    "oof_v2_m_21k_TTA = pd.read_csv('../input/setiinference/SETI_inference/OOFs/v2-m-21k_oof_TTA_V2.csv')\n",
    "\n",
    "oof_v2_l_21k_TTA = pd.read_csv('../input/setiinference/SETI_inference/OOFs/v2-l-21k_oof_TTA_V2.csv')\n",
    "\n",
    "oof_f0 = pd.read_csv('../input/setiinference/SETI_inference/OOFs/f0_oof.csv')\n",
    "oof_f0_TTA = pd.read_csv('../input/setiinference/SETI_inference/OOFs/f0_oof_TTA_V2.csv')\n",
    "\n",
    "oof_f1 = pd.read_csv('../input/setiinference/SETI_inference/OOFs/f1_oof.csv')\n",
    "oof_f1_TTA = pd.read_csv('../input/setiinference/SETI_inference/OOFs/f1_oof_TTA_V2.csv')\n",
    "\n",
    "oof_f2_TTA = pd.read_csv('../input/setiinference/SETI_inference/OOFs/f2_oof_TTA_V2.csv')"
   ]
  },
  {
   "cell_type": "code",
   "execution_count": null,
   "metadata": {
    "execution": {
     "iopub.execute_input": "2021-08-15T12:30:12.928923Z",
     "iopub.status.busy": "2021-08-15T12:30:12.928463Z",
     "iopub.status.idle": "2021-08-15T12:30:12.9471Z",
     "shell.execute_reply": "2021-08-15T12:30:12.945823Z",
     "shell.execute_reply.started": "2021-08-15T12:30:12.928832Z"
    }
   },
   "outputs": [],
   "source": [
    "targets = oof_b6['True']\n",
    "X = pd.DataFrame({\n",
    "    'B6': oof_b6_TTA['B6_oof'],\n",
    "    'B7': oof_b7_TTA['B7_oof'],\n",
    "    'V2-m-21k': oof_v2_m_21k_TTA['v2_m_21k_oof'],\n",
    "    'V2-l-21k': oof_v2_l_21k_TTA['v2_l_21k_oof'],\n",
    "    'F0': oof_f0_TTA['f0_oof'],\n",
    "    'F1': oof_f1_TTA['f1_oof'],\n",
    "    'F2': oof_f2_TTA['f2_oof']\n",
    "}).values"
   ]
  },
  {
   "cell_type": "code",
   "execution_count": null,
   "metadata": {
    "execution": {
     "iopub.execute_input": "2021-08-15T12:30:12.949509Z",
     "iopub.status.busy": "2021-08-15T12:30:12.949011Z",
     "iopub.status.idle": "2021-08-15T12:30:12.957805Z",
     "shell.execute_reply": "2021-08-15T12:30:12.957007Z",
     "shell.execute_reply.started": "2021-08-15T12:30:12.94947Z"
    }
   },
   "outputs": [],
   "source": [
    "## LGBM\n",
    "\n",
    "# def optimize(trial, X, y):\n",
    "    \n",
    "#     max_depth = trial.suggest_int('max_depth', -1, 1200)\n",
    "#     pos_bagging_fraction = trial.suggest_uniform('pos_bagging_fraction', 1e-4, 1)\n",
    "#     neg_bagging_fraction = trial.suggest_uniform('neg_bagging_fraction', 1e-4, 1)\n",
    "#     num_leaves = trial.suggest_int('num_leaves', 2, 300)\n",
    "#     subsample = trial.suggest_uniform('subsample', 0.01, 1)\n",
    "#     colsample_bytree = trial.suggest_uniform('colsample_bytree', 0.01, 1)\n",
    "#     reg_lambda = trial.suggest_uniform('reg_lambda', 0.01, 100)\n",
    "#     reg_alpha = trial.suggest_uniform('reg_alpha', 0.01, 100)\n",
    "#     scale_pos_weight = trial.suggest_uniform('scale_pos_weight', 0.01, 50)\n",
    "#     max_bin = trial.suggest_int('max_bin', 50, 800)\n",
    "    \n",
    "    \n",
    "#     params = {\n",
    "#         'metric': 'auc',\n",
    "#         'objective': 'binary',\n",
    "#         'boosting_type': 'gbdt',\n",
    "#         'max_depth': max_depth,\n",
    "#         'pos_bagging_fraction': pos_bagging_fraction,\n",
    "#         'neg_bagging_fraction': neg_bagging_fraction,\n",
    "#         'num_leaves': num_leaves,\n",
    "#         'subsample': subsample,\n",
    "#         'colsample_bytree': colsample_bytree,\n",
    "#         'reg_lambda': reg_lambda,\n",
    "#         'reg_alpha': reg_alpha,\n",
    "#         'scale_pos_weight': scale_pos_weight,\n",
    "#         'max_bin': max_bin,\n",
    "#         'nthreads': -1,\n",
    "#         'verbosity': 0, \n",
    "#         'random_state': 42, \n",
    "#     }\n",
    "    \n",
    "#     oof_preds = np.zeros(len(y))\n",
    "    \n",
    "#     skf = StratifiedKFold(n_splits=5, shuffle=True, random_state=42)\n",
    "    \n",
    "#     for fold, (train_idx, valid_idx) in enumerate(skf.split(X, y)):\n",
    "        \n",
    "#         X_train, X_valid = X[train_idx], X[valid_idx]\n",
    "#         y_train, y_valid = y[train_idx], y[valid_idx]\n",
    "        \n",
    "#         LGBMTrain = lgb.Dataset(data=X_train, label=y_train)\n",
    "#         LGBMValid = lgb.Dataset(data=X_valid, label=y_valid)\n",
    "    \n",
    "#         lgbm = lgb.train(\n",
    "#             params,\n",
    "#             LGBMTrain,\n",
    "#             num_boost_round=15000,\n",
    "#             valid_sets=[LGBMValid],\n",
    "#             early_stopping_rounds=50, \n",
    "#             verbose_eval=False    \n",
    "#         )\n",
    "        \n",
    "#         preds = lgbm.predict(X_valid)   \n",
    "#         oof_preds[valid_idx] = preds\n",
    "\n",
    "#     auc = metrics.roc_auc_score(y, oof_preds)        \n",
    "#     return auc\n",
    "\n",
    "# optimization_func = partial(optimize, X=X, y=targets)\n",
    "# study = optuna.create_study(direction='maximize', study_name='best_params', storage='sqlite:///optim_lgbm.db', load_if_exists=True)\n",
    "# study.optimize(optimization_func, n_trials=100, n_jobs=-1)"
   ]
  },
  {
   "cell_type": "code",
   "execution_count": null,
   "metadata": {
    "execution": {
     "iopub.execute_input": "2021-08-15T12:30:12.959759Z",
     "iopub.status.busy": "2021-08-15T12:30:12.959142Z",
     "iopub.status.idle": "2021-08-15T12:30:12.975167Z",
     "shell.execute_reply": "2021-08-15T12:30:12.973888Z",
     "shell.execute_reply.started": "2021-08-15T12:30:12.959715Z"
    }
   },
   "outputs": [],
   "source": [
    "# ## XGBoost\n",
    "\n",
    "# def optimize(trial, X, y):\n",
    "#     max_depth = trial.suggest_int('max_depth', 5, 31)\n",
    "#     eta = trial.suggest_uniform('eta', 0.0001, 0.99)\n",
    "#     gamma = trial.suggest_uniform('gamma', 0.01, 100)\n",
    "#     min_child_weight = trial.suggest_uniform('min_child_weight', 0.01, 70)\n",
    "#     max_delta_step = trial.suggest_int('max_delta_step', 1, 70)\n",
    "#     subsample = trial.suggest_uniform('subsample', 0.01, 1)\n",
    "#     colsample_bytree = trial.suggest_uniform('colsample_bytree', 0.01, 1)\n",
    "#     reg_lambda = trial.suggest_uniform('reg_lambda', 0.01, 70)\n",
    "#     reg_alpha = trial.suggest_uniform('reg_alpha', 0.01, 70)\n",
    "#     scale_pos_weight = trial.suggest_uniform('scale_pos_weight', 0.01, 50)\n",
    "    \n",
    "#     params = {\n",
    "#         'max_depth': max_depth,\n",
    "#         'eta': eta,\n",
    "#         'gamma': gamma,\n",
    "#         'min_child_weight': min_child_weight,\n",
    "#         'max_delta_step': max_delta_step,\n",
    "#         'subsample': subsample,\n",
    "#         'colsample_bytree': colsample_bytree,\n",
    "#         'reg_lambda': reg_lambda,\n",
    "#         'reg_alpha': reg_alpha,\n",
    "#         'scale_pos_weight': scale_pos_weight,\n",
    "#         'random_state': 42,\n",
    "#         'tree_method': 'hist',\n",
    "#         'objective': 'binary:logistic'\n",
    "#     }\n",
    "\n",
    "#     oof_preds = np.zeros(len(y))\n",
    "    \n",
    "#     skf = StratifiedKFold(n_splits=5, shuffle=True, random_state=42)\n",
    "#     for fold, (train_idx, valid_idx) in enumerate(skf.split(X, y)):\n",
    "        \n",
    "#         X_train, X_valid = X[train_idx], X[valid_idx]\n",
    "#         y_train, y_valid = y[train_idx], y[valid_idx]\n",
    "        \n",
    "#         DTrain = xgb.DMatrix(data=X_train, label=y_train)\n",
    "#         DValid = xgb.DMatrix(data=X_valid, label=y_valid)\n",
    "    \n",
    "#         xgboost = xgb.train(\n",
    "#             params,\n",
    "#             DTrain,\n",
    "#             num_boost_round=15000,\n",
    "#             evals=[(DValid, 'valid')],\n",
    "#             early_stopping_rounds=50,\n",
    "#             verbose_eval=False\n",
    "#         )\n",
    "        \n",
    "#         preds = xgboost.predict(xgb.DMatrix(data=X_valid)) \n",
    "#         oof_preds[valid_idx] = preds\n",
    "        \n",
    "#     auc = metrics.roc_auc_score(y, oof_preds)\n",
    "#     return auc\n",
    "\n",
    "# optimization_func = partial(optimize, X=X, y=targets)\n",
    "# study = optuna.create_study(direction='maximize', study_name='best_params', storage='sqlite:///optim_xgb.db', load_if_exists=True)\n",
    "# study.optimize(optimization_func, n_trials=100, n_jobs=-1)"
   ]
  },
  {
   "cell_type": "code",
   "execution_count": null,
   "metadata": {
    "execution": {
     "iopub.execute_input": "2021-08-15T12:30:12.976878Z",
     "iopub.status.busy": "2021-08-15T12:30:12.976566Z",
     "iopub.status.idle": "2021-08-15T12:30:12.990547Z",
     "shell.execute_reply": "2021-08-15T12:30:12.989369Z",
     "shell.execute_reply.started": "2021-08-15T12:30:12.976848Z"
    }
   },
   "outputs": [],
   "source": [
    "# ## CatBoost\n",
    "\n",
    "# def optimize(trial, X, y):\n",
    "#     learning_rate = trial.suggest_uniform('learning_rate', 1e-5, 1)\n",
    "#     depth = trial.suggest_int('depth', 1, 16)\n",
    "#     l2_leaf_reg = trial.suggest_uniform('l2_leaf_reg', 1e-5, 100)\n",
    "#     bagging_temperature = trial.suggest_uniform('bagging_temperature', 0, 500)\n",
    "\n",
    "    \n",
    "#     params = {\n",
    "#         'random_state': 42,\n",
    "#         'objective': 'Logloss',\n",
    "#         'learning_rate': learning_rate,\n",
    "#         'depth': depth,\n",
    "#         'l2_leaf_reg': l2_leaf_reg,\n",
    "#         'bagging_temperature': bagging_temperature,\n",
    "#     }\n",
    "    \n",
    "#     oof_preds = np.zeros(len(y))\n",
    "    \n",
    "#     skf = StratifiedKFold(n_splits=5, shuffle=True, random_state=42)\n",
    "#     for fold, (train_idx, valid_idx) in enumerate(skf.split(X, y)):\n",
    "        \n",
    "#         X_train, X_valid = X[train_idx], X[valid_idx]\n",
    "#         y_train, y_valid = y[train_idx], y[valid_idx]\n",
    "        \n",
    "#         PoolTrain = cb.Pool(data=X_train, label=y_train)\n",
    "#         PoolValid = cb.Pool(data=X_valid, label=y_valid)\n",
    "    \n",
    "#         catboost = cb.train(\n",
    "#             params=params,\n",
    "#             pool=PoolTrain,\n",
    "#             num_boost_round=15000,  \n",
    "#             early_stopping_rounds=50,\n",
    "#             evals=(PoolValid),\n",
    "#             verbose=False\n",
    "#         )\n",
    "        \n",
    "#         preds = catboost.predict(PoolValid)    \n",
    "#         oof_preds[valid_idx] = preds\n",
    "        \n",
    "#     auc = metrics.roc_auc_score(y, oof_preds)    \n",
    "#     return auc\n",
    "\n",
    "# optimization_func = partial(optimize, X=X, y=targets)\n",
    "# study = optuna.create_study(direction='maximize', study_name='best_params', storage='sqlite:///optim_xgb.db', load_if_exists=True)\n",
    "# study.optimize(optimization_func, n_trials=100, n_jobs=-1)"
   ]
  },
  {
   "cell_type": "markdown",
   "metadata": {},
   "source": [
    "## L1 Ensemble"
   ]
  },
  {
   "cell_type": "code",
   "execution_count": null,
   "metadata": {
    "execution": {
     "iopub.execute_input": "2021-08-15T12:30:12.992425Z",
     "iopub.status.busy": "2021-08-15T12:30:12.992026Z",
     "iopub.status.idle": "2021-08-15T12:30:13.006765Z",
     "shell.execute_reply": "2021-08-15T12:30:13.005699Z",
     "shell.execute_reply.started": "2021-08-15T12:30:12.992389Z"
    }
   },
   "outputs": [],
   "source": [
    "# lgbm_params = {\n",
    "#     'metric': 'auc',\n",
    "#     'objective': 'binary',\n",
    "#     'boosting_type': 'gbdt',\n",
    "#     'n_jobs': -1,\n",
    "#     'colsample_bytree': 0.5318084187961043,\n",
    "#     'max_bin': 745,\n",
    "#     'max_depth': 1060,\n",
    "#     'neg_bagging_fraction': 0.39104688583896124,\n",
    "#     'num_leaves': 22,\n",
    "#     'pos_bagging_fraction': 0.10673777166031617,\n",
    "#     'reg_alpha': 59.69605015537719,\n",
    "#     'reg_lambda': 90.79245721612929,\n",
    "#     'scale_pos_weight': 2.219760634737945,\n",
    "#     'subsample': 0.2373529814640012,\n",
    "#     'verbosity': -1, \n",
    "#     'random_state': 42, \n",
    "# }\n",
    "\n",
    "# xgb_params = {\n",
    "#     'colsample_bytree': 0.8703226373638996,\n",
    "#     'eta': 0.0031089968322953296,\n",
    "#     'gamma': 80.80386626422809,\n",
    "#     'max_delta_step': 34,\n",
    "#     'max_depth': 28,\n",
    "#     'min_child_weight': 12.966089078443037,\n",
    "#     'reg_alpha': 0.20027402062059024,\n",
    "#     'reg_lambda': 65.46303354711088,\n",
    "#     'scale_pos_weight': 9.112502677070465,\n",
    "#     'subsample': 0.46926622469877854,\n",
    "#     'tree_method': 'hist',\n",
    "#     'objective': 'binary:logistic'\n",
    "# }\n",
    "\n",
    "# cb_params = {\n",
    "#     'random_state': 42,\n",
    "#     'objective': 'Logloss',\n",
    "#     'bagging_temperature': 80.36504941821498,\n",
    "#     'depth': 6,\n",
    "#     'l2_leaf_reg': 39.43502878581847,\n",
    "#     'learning_rate': 0.014860578341645154\n",
    "# }"
   ]
  },
  {
   "cell_type": "code",
   "execution_count": null,
   "metadata": {
    "execution": {
     "iopub.execute_input": "2021-08-15T12:30:26.663859Z",
     "iopub.status.busy": "2021-08-15T12:30:26.663513Z",
     "iopub.status.idle": "2021-08-15T12:36:01.231528Z",
     "shell.execute_reply": "2021-08-15T12:36:01.229965Z",
     "shell.execute_reply.started": "2021-08-15T12:30:26.66383Z"
    }
   },
   "outputs": [],
   "source": [
    "lm_models = []\n",
    "ann_models = []\n",
    "\n",
    "oof_preds_lm = np.zeros(len(targets))\n",
    "oof_preds_ann = np.zeros(len(targets))\n",
    "\n",
    "skf = StratifiedKFold(n_splits=5, random_state=42, shuffle=True)\n",
    "for fold, (train_idx, valid_idx) in enumerate(skf.split(X, targets)):\n",
    "    print(f'Fold: {fold}')\n",
    "    \n",
    "    Xtrain, Xvalid = X[train_idx], X[valid_idx]\n",
    "    ytrain, yvalid = targets[train_idx], targets[valid_idx]\n",
    "    \n",
    "    ############## LM ##############\n",
    "    \n",
    "    lm = LogisticRegression(random_state=42)\n",
    "    lm.fit(Xtrain, ytrain)\n",
    "    \n",
    "    lm_models.append(lm)\n",
    "    \n",
    "    y_pred = lm.predict_proba(Xvalid)[:,1]\n",
    "    oof_preds_lm[valid_idx] = y_pred\n",
    "    \n",
    "    print('LM_AUC:', metrics.roc_auc_score(yvalid, y_pred)) \n",
    "    \n",
    "print('')\n",
    "print('LM_OOF_AUC:', metrics.roc_auc_score(targets, oof_preds_lm))"
   ]
  },
  {
   "cell_type": "code",
   "execution_count": null,
   "metadata": {
    "execution": {
     "iopub.execute_input": "2021-08-15T12:40:07.454663Z",
     "iopub.status.busy": "2021-08-15T12:40:07.454284Z",
     "iopub.status.idle": "2021-08-15T12:40:07.772403Z",
     "shell.execute_reply": "2021-08-15T12:40:07.77131Z",
     "shell.execute_reply.started": "2021-08-15T12:40:07.454632Z"
    }
   },
   "outputs": [],
   "source": [
    "test_b6 = pd.read_csv('../input/setiinference/SETI_inference/B6_V2.csv')\n",
    "test_b7 = pd.read_csv('../input/setiinference/SETI_inference/B7_V2.csv')\n",
    "test_v2_m_21k = pd.read_csv('../input/setiinference/SETI_inference/v2-m-21k_V2.csv')\n",
    "test_v2_l_21k = pd.read_csv('../input/setiinference/SETI_inference/v2-l-21k_V2.csv')\n",
    "test_f0 = pd.read_csv('../input/setiinference/SETI_inference/NFNet-F0_V2.csv')\n",
    "test_f1 = pd.read_csv('../input/setiinference/SETI_inference/NFNet-F1_V2.csv')\n",
    "test_f2 = pd.read_csv('../input/setiinference/SETI_inference/NFNet-F2_V2.csv')\n",
    "\n",
    "Xtest = pd.DataFrame({\n",
    "    'B6': test_b6['target'],\n",
    "    'B7': test_b7['target'],\n",
    "    'V2_m_21k': test_v2_m_21k['target'],\n",
    "    'V2_l_21k': test_v2_l_21k['target'],\n",
    "    'F0': test_f0['target'],\n",
    "    'F1': test_f1['target'],\n",
    "    'F2': test_f2['target']\n",
    "}).values"
   ]
  },
  {
   "cell_type": "code",
   "execution_count": null,
   "metadata": {
    "execution": {
     "iopub.execute_input": "2021-08-15T12:22:47.243804Z",
     "iopub.status.busy": "2021-08-15T12:22:47.243451Z",
     "iopub.status.idle": "2021-08-15T12:22:47.266449Z",
     "shell.execute_reply": "2021-08-15T12:22:47.265107Z",
     "shell.execute_reply.started": "2021-08-15T12:22:47.243774Z"
    }
   },
   "outputs": [],
   "source": [
    "lm_preds = np.zeros(len(Xtest))\n",
    "\n",
    "for i in range(len(lm_models)):\n",
    "    lm_preds += lm_models[i].predict_proba(Xtest)[:,1]/len(lm_models)"
   ]
  },
  {
   "cell_type": "code",
   "execution_count": null,
   "metadata": {},
   "outputs": [],
   "source": [
    "lm = LogisticRegression(random_state=42)\n",
    "lm.fit(X, targets)\n",
    "\n",
    "final_preds = lm.predict_proba(Xtest)[:,1]"
   ]
  },
  {
   "cell_type": "code",
   "execution_count": null,
   "metadata": {
    "execution": {
     "iopub.execute_input": "2021-08-15T12:40:22.363701Z",
     "iopub.status.busy": "2021-08-15T12:40:22.363351Z",
     "iopub.status.idle": "2021-08-15T12:40:22.512209Z",
     "shell.execute_reply": "2021-08-15T12:40:22.511357Z",
     "shell.execute_reply.started": "2021-08-15T12:40:22.363672Z"
    }
   },
   "outputs": [],
   "source": [
    "submission = pd.DataFrame({\n",
    "    'id': test_b6['id'],\n",
    "    'target': final_preds\n",
    "})\n",
    "\n",
    "submission.to_csv('submission.csv', index=False)"
   ]
  },
  {
   "cell_type": "code",
   "execution_count": null,
   "metadata": {
    "execution": {
     "iopub.execute_input": "2021-08-15T12:40:25.426187Z",
     "iopub.status.busy": "2021-08-15T12:40:25.425557Z",
     "iopub.status.idle": "2021-08-15T12:40:25.444309Z",
     "shell.execute_reply": "2021-08-15T12:40:25.443045Z",
     "shell.execute_reply.started": "2021-08-15T12:40:25.426134Z"
    }
   },
   "outputs": [],
   "source": [
    "submission.head()"
   ]
  },
  {
   "cell_type": "code",
   "execution_count": null,
   "metadata": {},
   "outputs": [],
   "source": []
  }
 ],
 "metadata": {
  "kernelspec": {
   "display_name": "Python 3",
   "language": "python",
   "name": "python3"
  },
  "language_info": {
   "codemirror_mode": {
    "name": "ipython",
    "version": 3
   },
   "file_extension": ".py",
   "mimetype": "text/x-python",
   "name": "python",
   "nbconvert_exporter": "python",
   "pygments_lexer": "ipython3",
   "version": "3.8.3"
  }
 },
 "nbformat": 4,
 "nbformat_minor": 4
}
